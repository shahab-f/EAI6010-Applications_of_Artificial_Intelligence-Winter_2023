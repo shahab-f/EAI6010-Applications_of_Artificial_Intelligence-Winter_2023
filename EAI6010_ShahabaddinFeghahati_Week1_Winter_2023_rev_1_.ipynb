{
  "cells": [
    {
      "cell_type": "markdown",
      "metadata": {
        "id": "view-in-github",
        "colab_type": "text"
      },
      "source": [
        "<a href=\"https://colab.research.google.com/github/shahab-f/EAI6010-Applications_of_Artificial_Intelligence-Winter_2023/blob/main/EAI6010_ShahabaddinFeghahati_Week1_Winter_2023_rev_1_.ipynb\" target=\"_parent\"><img src=\"https://colab.research.google.com/assets/colab-badge.svg\" alt=\"Open In Colab\"/></a>"
      ]
    },
    {
      "cell_type": "markdown",
      "metadata": {
        "id": "mq-pkmfdGJZj"
      },
      "source": [
        "# EAI6010 - Module 1: Intro to AI Applications\n"
      ]
    },
    {
      "cell_type": "markdown",
      "metadata": {
        "id": "6dP6e77QGJZq"
      },
      "source": [
        "# Introduction\n",
        "\n",
        "The code beneath retrieves historical price data for Litecoin on Bitstamp using the Cryptowatch API, creates a line plot of the closing prices using Pandas, creates an interactive version of the plot using Bokeh, and writes the data to an Excel file using Pandas. The resulting plot and Excel file can be used for further analysis and visualization."
      ]
    },
    {
      "cell_type": "markdown",
      "metadata": {
        "id": "iqaDhqD4GJZt"
      },
      "source": [
        "# Body/Analysis"
      ]
    },
    {
      "cell_type": "markdown",
      "metadata": {
        "id": "DvL-16lsGJZv"
      },
      "source": [
        "I have a predefined function that simplifies the process of importing data from Cryptowatch (for reference, check their docs)."
      ]
    },
    {
      "cell_type": "code",
      "execution_count": null,
      "metadata": {
        "id": "AO6Axb3jGJZx"
      },
      "outputs": [],
      "source": [
        "import requests\n",
        "import pandas as pd\n",
        "\n",
        "def get_historic_price(symbol, exchange='Bitstamp', after='2018-09-01'):\n",
        "    url = 'https://api.cryptowat.ch/markets/{exchange}/{symbol}usd/ohlc'.format(\n",
        "        symbol=symbol, exchange=exchange)\n",
        "    resp = requests.get(url, params={\n",
        "        'periods': '3600',\n",
        "        'after': str(int(pd.Timestamp(after).timestamp()))\n",
        "    })\n",
        "    resp.raise_for_status()\n",
        "    data = resp.json()\n",
        "    df = pd.DataFrame(data['result']['3600'], columns=[\n",
        "        'CloseTime', 'OpenPrice', 'HighPrice', 'LowPrice', 'ClosePrice', 'Volume', 'NA'\n",
        "    ])\n",
        "    df['CloseTime'] = pd.to_datetime(df['CloseTime'], unit='s')\n",
        "    df.set_index('CloseTime', inplace=True)\n",
        "    return df\n",
        "\n",
        "# Example usage\n",
        "#ltc_data = get_historic_price('ltc')\n",
        "#print(ltc_data.head())\n"
      ]
    },
    {
      "cell_type": "markdown",
      "metadata": {
        "id": "cPTYbU8jGJZ4"
      },
      "source": [
        "I will now pull data from Litecoin, the most popular cryptocurrencies, for the last 100 days:"
      ]
    },
    {
      "cell_type": "code",
      "execution_count": null,
      "metadata": {
        "scrolled": true,
        "colab": {
          "base_uri": "https://localhost:8080/"
        },
        "id": "xPQ7nBNgGJZ6",
        "outputId": "5703bf79-0d08-4204-df2e-a21730d0bbdd"
      },
      "outputs": [
        {
          "output_type": "execute_result",
          "data": {
            "text/plain": [
              "Timestamp('2022-11-17 03:18:47.933076')"
            ]
          },
          "metadata": {},
          "execution_count": 12
        }
      ],
      "source": [
        "last_100days = (pd.Timestamp.now() - pd.offsets.Day(100))\n",
        "last_100days"
      ]
    },
    {
      "cell_type": "code",
      "execution_count": null,
      "metadata": {
        "scrolled": true,
        "colab": {
          "base_uri": "https://localhost:8080/",
          "height": 219
        },
        "id": "yA6yzQu2GJZ9",
        "outputId": "c05f5d24-15bf-4475-c47a-9bb45082ca64"
      },
      "outputs": [
        {
          "output_type": "execute_result",
          "data": {
            "text/plain": [
              "                     OpenPrice  HighPrice  LowPrice  ClosePrice       Volume  \\\n",
              "CloseTime                                                                      \n",
              "2023-02-25 00:00:00      90.97      91.63     90.97       91.62  1262.967328   \n",
              "2023-02-25 01:00:00      91.71      91.71     91.47       91.60   190.456741   \n",
              "2023-02-25 02:00:00      91.55      91.95     91.55       91.86   256.025116   \n",
              "2023-02-25 03:00:00      91.98      91.98     91.15       91.28   220.103567   \n",
              "2023-02-25 04:00:00      91.23      91.44     91.23       91.44     3.418822   \n",
              "\n",
              "                                NA  \n",
              "CloseTime                           \n",
              "2023-02-25 00:00:00  115109.277518  \n",
              "2023-02-25 01:00:00   17441.560723  \n",
              "2023-02-25 02:00:00   23512.531975  \n",
              "2023-02-25 03:00:00   20126.164892  \n",
              "2023-02-25 04:00:00     312.173244  "
            ],
            "text/html": [
              "\n",
              "  <div id=\"df-0cb1523d-29b1-414a-ba83-029e9741ee8b\">\n",
              "    <div class=\"colab-df-container\">\n",
              "      <div>\n",
              "<style scoped>\n",
              "    .dataframe tbody tr th:only-of-type {\n",
              "        vertical-align: middle;\n",
              "    }\n",
              "\n",
              "    .dataframe tbody tr th {\n",
              "        vertical-align: top;\n",
              "    }\n",
              "\n",
              "    .dataframe thead th {\n",
              "        text-align: right;\n",
              "    }\n",
              "</style>\n",
              "<table border=\"1\" class=\"dataframe\">\n",
              "  <thead>\n",
              "    <tr style=\"text-align: right;\">\n",
              "      <th></th>\n",
              "      <th>OpenPrice</th>\n",
              "      <th>HighPrice</th>\n",
              "      <th>LowPrice</th>\n",
              "      <th>ClosePrice</th>\n",
              "      <th>Volume</th>\n",
              "      <th>NA</th>\n",
              "    </tr>\n",
              "    <tr>\n",
              "      <th>CloseTime</th>\n",
              "      <th></th>\n",
              "      <th></th>\n",
              "      <th></th>\n",
              "      <th></th>\n",
              "      <th></th>\n",
              "      <th></th>\n",
              "    </tr>\n",
              "  </thead>\n",
              "  <tbody>\n",
              "    <tr>\n",
              "      <th>2023-02-25 00:00:00</th>\n",
              "      <td>90.97</td>\n",
              "      <td>91.63</td>\n",
              "      <td>90.97</td>\n",
              "      <td>91.62</td>\n",
              "      <td>1262.967328</td>\n",
              "      <td>115109.277518</td>\n",
              "    </tr>\n",
              "    <tr>\n",
              "      <th>2023-02-25 01:00:00</th>\n",
              "      <td>91.71</td>\n",
              "      <td>91.71</td>\n",
              "      <td>91.47</td>\n",
              "      <td>91.60</td>\n",
              "      <td>190.456741</td>\n",
              "      <td>17441.560723</td>\n",
              "    </tr>\n",
              "    <tr>\n",
              "      <th>2023-02-25 02:00:00</th>\n",
              "      <td>91.55</td>\n",
              "      <td>91.95</td>\n",
              "      <td>91.55</td>\n",
              "      <td>91.86</td>\n",
              "      <td>256.025116</td>\n",
              "      <td>23512.531975</td>\n",
              "    </tr>\n",
              "    <tr>\n",
              "      <th>2023-02-25 03:00:00</th>\n",
              "      <td>91.98</td>\n",
              "      <td>91.98</td>\n",
              "      <td>91.15</td>\n",
              "      <td>91.28</td>\n",
              "      <td>220.103567</td>\n",
              "      <td>20126.164892</td>\n",
              "    </tr>\n",
              "    <tr>\n",
              "      <th>2023-02-25 04:00:00</th>\n",
              "      <td>91.23</td>\n",
              "      <td>91.44</td>\n",
              "      <td>91.23</td>\n",
              "      <td>91.44</td>\n",
              "      <td>3.418822</td>\n",
              "      <td>312.173244</td>\n",
              "    </tr>\n",
              "  </tbody>\n",
              "</table>\n",
              "</div>\n",
              "      <button class=\"colab-df-convert\" onclick=\"convertToInteractive('df-0cb1523d-29b1-414a-ba83-029e9741ee8b')\"\n",
              "              title=\"Convert this dataframe to an interactive table.\"\n",
              "              style=\"display:none;\">\n",
              "        \n",
              "  <svg xmlns=\"http://www.w3.org/2000/svg\" height=\"24px\"viewBox=\"0 0 24 24\"\n",
              "       width=\"24px\">\n",
              "    <path d=\"M0 0h24v24H0V0z\" fill=\"none\"/>\n",
              "    <path d=\"M18.56 5.44l.94 2.06.94-2.06 2.06-.94-2.06-.94-.94-2.06-.94 2.06-2.06.94zm-11 1L8.5 8.5l.94-2.06 2.06-.94-2.06-.94L8.5 2.5l-.94 2.06-2.06.94zm10 10l.94 2.06.94-2.06 2.06-.94-2.06-.94-.94-2.06-.94 2.06-2.06.94z\"/><path d=\"M17.41 7.96l-1.37-1.37c-.4-.4-.92-.59-1.43-.59-.52 0-1.04.2-1.43.59L10.3 9.45l-7.72 7.72c-.78.78-.78 2.05 0 2.83L4 21.41c.39.39.9.59 1.41.59.51 0 1.02-.2 1.41-.59l7.78-7.78 2.81-2.81c.8-.78.8-2.07 0-2.86zM5.41 20L4 18.59l7.72-7.72 1.47 1.35L5.41 20z\"/>\n",
              "  </svg>\n",
              "      </button>\n",
              "      \n",
              "  <style>\n",
              "    .colab-df-container {\n",
              "      display:flex;\n",
              "      flex-wrap:wrap;\n",
              "      gap: 12px;\n",
              "    }\n",
              "\n",
              "    .colab-df-convert {\n",
              "      background-color: #E8F0FE;\n",
              "      border: none;\n",
              "      border-radius: 50%;\n",
              "      cursor: pointer;\n",
              "      display: none;\n",
              "      fill: #1967D2;\n",
              "      height: 32px;\n",
              "      padding: 0 0 0 0;\n",
              "      width: 32px;\n",
              "    }\n",
              "\n",
              "    .colab-df-convert:hover {\n",
              "      background-color: #E2EBFA;\n",
              "      box-shadow: 0px 1px 2px rgba(60, 64, 67, 0.3), 0px 1px 3px 1px rgba(60, 64, 67, 0.15);\n",
              "      fill: #174EA6;\n",
              "    }\n",
              "\n",
              "    [theme=dark] .colab-df-convert {\n",
              "      background-color: #3B4455;\n",
              "      fill: #D2E3FC;\n",
              "    }\n",
              "\n",
              "    [theme=dark] .colab-df-convert:hover {\n",
              "      background-color: #434B5C;\n",
              "      box-shadow: 0px 1px 3px 1px rgba(0, 0, 0, 0.15);\n",
              "      filter: drop-shadow(0px 1px 2px rgba(0, 0, 0, 0.3));\n",
              "      fill: #FFFFFF;\n",
              "    }\n",
              "  </style>\n",
              "\n",
              "      <script>\n",
              "        const buttonEl =\n",
              "          document.querySelector('#df-0cb1523d-29b1-414a-ba83-029e9741ee8b button.colab-df-convert');\n",
              "        buttonEl.style.display =\n",
              "          google.colab.kernel.accessAllowed ? 'block' : 'none';\n",
              "\n",
              "        async function convertToInteractive(key) {\n",
              "          const element = document.querySelector('#df-0cb1523d-29b1-414a-ba83-029e9741ee8b');\n",
              "          const dataTable =\n",
              "            await google.colab.kernel.invokeFunction('convertToInteractive',\n",
              "                                                     [key], {});\n",
              "          if (!dataTable) return;\n",
              "\n",
              "          const docLinkHtml = 'Like what you see? Visit the ' +\n",
              "            '<a target=\"_blank\" href=https://colab.research.google.com/notebooks/data_table.ipynb>data table notebook</a>'\n",
              "            + ' to learn more about interactive tables.';\n",
              "          element.innerHTML = '';\n",
              "          dataTable['output_type'] = 'display_data';\n",
              "          await google.colab.output.renderOutput(dataTable, element);\n",
              "          const docLink = document.createElement('div');\n",
              "          docLink.innerHTML = docLinkHtml;\n",
              "          element.appendChild(docLink);\n",
              "        }\n",
              "      </script>\n",
              "    </div>\n",
              "  </div>\n",
              "  "
            ]
          },
          "metadata": {},
          "execution_count": 16
        }
      ],
      "source": [
        "ltc = get_historic_price('ltc', 'bitstamp', after=last_100days)\n",
        "\n",
        "ltc.tail()"
      ]
    },
    {
      "cell_type": "markdown",
      "source": [
        "### Note\n",
        "\n",
        "Bitfinex is an alternative to Bitstamp for buying, selling, and trading cryptocurrencies. Bitstamp primarily serves European customers, while Bitfinex serves a global customer base. Bitfinex offers a wider range of cryptocurrencies, including Dogecoin and Uniswap, while Bitstamp offers trading pairs for Bitcoin, Ethereum, Ripple, Litecoin, and others. Trading fees and volume also differ between the two exchanges (Bitfinex, 2023; Bitstamp, 2022)."
      ],
      "metadata": {
        "id": "HP5f9ry2NVCu"
      }
    },
    {
      "cell_type": "markdown",
      "metadata": {
        "id": "aTd9Y80QGJaB"
      },
      "source": [
        "### Let's plot it:"
      ]
    },
    {
      "cell_type": "code",
      "execution_count": null,
      "metadata": {
        "scrolled": false,
        "colab": {
          "base_uri": "https://localhost:8080/",
          "height": 458
        },
        "id": "hOyBrH1IGJaF",
        "outputId": "f5aae69d-34e8-445c-c337-3a871b6de986"
      },
      "outputs": [
        {
          "output_type": "display_data",
          "data": {
            "text/plain": [
              "<Figure size 1080x504 with 1 Axes>"
            ],
            "image/png": "[encoded data removed]"
          },
          "metadata": {
            "needs_background": "light"
          }
        }
      ],
      "source": [
        "import matplotlib.pyplot as plt\n",
        "\n",
        "#ltc['ClosePrice'].plot(figsize=(15, 7))\n",
        "plt.figure(figsize=(15, 7))\n",
        "plt.plot(ltc.index, ltc['ClosePrice'])\n",
        "plt.title('Litecoin (LTC) Closing Price on Bitstamp')\n",
        "plt.xlabel('Date')\n",
        "plt.ylabel('Price (USD)')\n",
        "plt.show()"
      ]
    },
    {
      "cell_type": "markdown",
      "metadata": {
        "id": "w_HWWct8GJaG"
      },
      "source": [
        "### Dynamic plots with Bokeh"
      ]
    },
    {
      "cell_type": "markdown",
      "metadata": {
        "id": "OhZWpepqGJaG"
      },
      "source": [
        "May need to `pip install bokeh`"
      ]
    },
    {
      "cell_type": "code",
      "source": [
        "from bokeh.plotting import figure, output_file, show\n",
        "from bokeh.io import output_notebook\n",
        "\n",
        "output_notebook()\n",
        "\n",
        "p1 = figure(x_axis_type=\"datetime\", title=\"Litecoin (LTC) Closing Price on Bitstamp\",\n",
        "            x_axis_label='Date', y_axis_label='Price (USD)')\n",
        "\n",
        "p1.plot_height = 400\n",
        "p1.grid.grid_line_alpha = 0.3\n",
        "\n",
        "p1.line(ltc.index, ltc['ClosePrice'], color='#f2a900', legend_label='Litecoin')\n",
        "\n",
        "p1.legend.location = \"top_left\"\n",
        "\n",
        "show(p1)\n"
      ],
      "metadata": {
        "colab": {
          "base_uri": "https://localhost:8080/",
          "height": 417
        },
        "id": "j944dDYFifOL",
        "outputId": "70b78c6b-7d47-4ac9-db00-bab67b11ae13"
      },
      "execution_count": null,
      "outputs": [
        {
          "output_type": "display_data",
          "data": {
            "application/javascript": [
              "\n",
              "(function(root) {\n",
              "  function now() {\n",
              "    return new Date();\n",
              "  }\n",
              "\n",
              "  var force = true;\n",
              "\n",
              "  if (typeof root._bokeh_onload_callbacks === \"undefined\" || force === true) {\n",
              "    root._bokeh_onload_callbacks = [];\n",
              "    root._bokeh_is_loading = undefined;\n",
              "  }\n",
              "\n",
              "  var JS_MIME_TYPE = 'application/javascript';\n",
              "  var HTML_MIME_TYPE = 'text/html';\n",
              "  var EXEC_MIME_TYPE = 'application/vnd.bokehjs_exec.v0+json';\n",
              "  var CLASS_NAME = 'output_bokeh rendered_html';\n",
              "\n",
              "  /**\n",
              "   * Render data to the DOM node\n",
              "   */\n",
              "  function render(props, node) {\n",
              "    var script = document.createElement(\"script\");\n",
              "    node.appendChild(script);\n",
              "  }\n",
              "\n",
              "  /**\n",
              "   * Handle when an output is cleared or removed\n",
              "   */\n",
              "  function handleClearOutput(event, handle) {\n",
              "    var cell = handle.cell;\n",
              "\n",
              "    var id = cell.output_area._bokeh_element_id;\n",
              "    var server_id = cell.output_area._bokeh_server_id;\n",
              "    // Clean up Bokeh references\n",
              "    if (id != null && id in Bokeh.index) {\n",
              "      Bokeh.index[id].model.document.clear();\n",
              "      delete Bokeh.index[id];\n",
              "    }\n",
              "\n",
              "    if (server_id !== undefined) {\n",
              "      // Clean up Bokeh references\n",
              "      var cmd = \"from bokeh.io.state import curstate; print(curstate().uuid_to_server['\" + server_id + \"'].get_sessions()[0].document.roots[0]._id)\";\n",
              "      cell.notebook.kernel.execute(cmd, {\n",
              "        iopub: {\n",
              "          output: function(msg) {\n",
              "            var id = msg.content.text.trim();\n",
              "            if (id in Bokeh.index) {\n",
              "              Bokeh.index[id].model.document.clear();\n",
              "              delete Bokeh.index[id];\n",
              "            }\n",
              "          }\n",
              "        }\n",
              "      });\n",
              "      // Destroy server and session\n",
              "      var cmd = \"import bokeh.io.notebook as ion; ion.destroy_server('\" + server_id + \"')\";\n",
              "      cell.notebook.kernel.execute(cmd);\n",
              "    }\n",
              "  }\n",
              "\n",
              "  /**\n",
              "   * Handle when a new output is added\n",
              "   */\n",
              "  function handleAddOutput(event, handle) {\n",
              "    var output_area = handle.output_area;\n",
              "    var output = handle.output;\n",
              "\n",
              "    // limit handleAddOutput to display_data with EXEC_MIME_TYPE content only\n",
              "    if ((output.output_type != \"display_data\") || (!Object.prototype.hasOwnProperty.call(output.data, EXEC_MIME_TYPE))) {\n",
              "      return\n",
              "    }\n",
              "\n",
              "    var toinsert = output_area.element.find(\".\" + CLASS_NAME.split(' ')[0]);\n",
              "\n",
              "    if (output.metadata[EXEC_MIME_TYPE][\"id\"] !== undefined) {\n",
              "      toinsert[toinsert.length - 1].firstChild.textContent = output.data[JS_MIME_TYPE];\n",
              "      // store reference to embed id on output_area\n",
              "      output_area._bokeh_element_id = output.metadata[EXEC_MIME_TYPE][\"id\"];\n",
              "    }\n",
              "    if (output.metadata[EXEC_MIME_TYPE][\"server_id\"] !== undefined) {\n",
              "      var bk_div = document.createElement(\"div\");\n",
              "      bk_div.innerHTML = output.data[HTML_MIME_TYPE];\n",
              "      var script_attrs = bk_div.children[0].attributes;\n",
              "      for (var i = 0; i < script_attrs.length; i++) {\n",
              "        toinsert[toinsert.length - 1].firstChild.setAttribute(script_attrs[i].name, script_attrs[i].value);\n",
              "        toinsert[toinsert.length - 1].firstChild.textContent = bk_div.children[0].textContent\n",
              "      }\n",
              "      // store reference to server id on output_area\n",
              "      output_area._bokeh_server_id = output.metadata[EXEC_MIME_TYPE][\"server_id\"];\n",
              "    }\n",
              "  }\n",
              "\n",
              "  function register_renderer(events, OutputArea) {\n",
              "\n",
              "    function append_mime(data, metadata, element) {\n",
              "      // create a DOM node to render to\n",
              "      var toinsert = this.create_output_subarea(\n",
              "        metadata,\n",
              "        CLASS_NAME,\n",
              "        EXEC_MIME_TYPE\n",
              "      );\n",
              "      this.keyboard_manager.register_events(toinsert);\n",
              "      // Render to node\n",
              "      var props = {data: data, metadata: metadata[EXEC_MIME_TYPE]};\n",
              "      render(props, toinsert[toinsert.length - 1]);\n",
              "      element.append(toinsert);\n",
              "      return toinsert\n",
              "    }\n",
              "\n",
              "    /* Handle when an output is cleared or removed */\n",
              "    events.on('clear_output.CodeCell', handleClearOutput);\n",
              "    events.on('delete.Cell', handleClearOutput);\n",
              "\n",
              "    /* Handle when a new output is added */\n",
              "    events.on('output_added.OutputArea', handleAddOutput);\n",
              "\n",
              "    /**\n",
              "     * Register the mime type and append_mime function with output_area\n",
              "     */\n",
              "    OutputArea.prototype.register_mime_type(EXEC_MIME_TYPE, append_mime, {\n",
              "      /* Is output safe? */\n",
              "      safe: true,\n",
              "      /* Index of renderer in `output_area.display_order` */\n",
              "      index: 0\n",
              "    });\n",
              "  }\n",
              "\n",
              "  // register the mime type if in Jupyter Notebook environment and previously unregistered\n",
              "  if (root.Jupyter !== undefined) {\n",
              "    var events = require('base/js/events');\n",
              "    var OutputArea = require('notebook/js/outputarea').OutputArea;\n",
              "\n",
              "    if (OutputArea.prototype.mime_types().indexOf(EXEC_MIME_TYPE) == -1) {\n",
              "      register_renderer(events, OutputArea);\n",
              "    }\n",
              "  }\n",
              "\n",
              "  \n",
              "  if (typeof (root._bokeh_timeout) === \"undefined\" || force === true) {\n",
              "    root._bokeh_timeout = Date.now() + 5000;\n",
              "    root._bokeh_failed_load = false;\n",
              "  }\n",
              "\n",
              "  var NB_LOAD_WARNING = {'data': {'text/html':\n",
              "     \"<div style='background-color: #fdd'>\\n\"+\n",
              "     \"<p>\\n\"+\n",
              "     \"BokehJS does not appear to have successfully loaded. If loading BokehJS from CDN, this \\n\"+\n",
              "     \"may be due to a slow or bad network connection. Possible fixes:\\n\"+\n",
              "     \"</p>\\n\"+\n",
              "     \"<ul>\\n\"+\n",
              "     \"<li>re-rerun `output_notebook()` to attempt to load from CDN again, or</li>\\n\"+\n",
              "     \"<li>use INLINE resources instead, as so:</li>\\n\"+\n",
              "     \"</ul>\\n\"+\n",
              "     \"<code>\\n\"+\n",
              "     \"from bokeh.resources import INLINE\\n\"+\n",
              "     \"output_notebook(resources=INLINE)\\n\"+\n",
              "     \"</code>\\n\"+\n",
              "     \"</div>\"}};\n",
              "\n",
              "  function display_loaded() {\n",
              "    var el = document.getElementById(null);\n",
              "    if (el != null) {\n",
              "      el.textContent = \"BokehJS is loading...\";\n",
              "    }\n",
              "    if (root.Bokeh !== undefined) {\n",
              "      if (el != null) {\n",
              "        el.textContent = \"BokehJS \" + root.Bokeh.version + \" successfully loaded.\";\n",
              "      }\n",
              "    } else if (Date.now() < root._bokeh_timeout) {\n",
              "      setTimeout(display_loaded, 100)\n",
              "    }\n",
              "  }\n",
              "\n",
              "\n",
              "  function run_callbacks() {\n",
              "    try {\n",
              "      root._bokeh_onload_callbacks.forEach(function(callback) {\n",
              "        if (callback != null)\n",
              "          callback();\n",
              "      });\n",
              "    } finally {\n",
              "      delete root._bokeh_onload_callbacks\n",
              "    }\n",
              "    console.debug(\"Bokeh: all callbacks have finished\");\n",
              "  }\n",
              "\n",
              "  function load_libs(css_urls, js_urls, callback) {\n",
              "    if (css_urls == null) css_urls = [];\n",
              "    if (js_urls == null) js_urls = [];\n",
              "\n",
              "    root._bokeh_onload_callbacks.push(callback);\n",
              "    if (root._bokeh_is_loading > 0) {\n",
              "      console.debug(\"Bokeh: BokehJS is being loaded, scheduling callback at\", now());\n",
              "      return null;\n",
              "    }\n",
              "    if (js_urls == null || js_urls.length === 0) {\n",
              "      run_callbacks();\n",
              "      return null;\n",
              "    }\n",
              "    console.debug(\"Bokeh: BokehJS not loaded, scheduling load and callback at\", now());\n",
              "    root._bokeh_is_loading = css_urls.length + js_urls.length;\n",
              "\n",
              "    function on_load() {\n",
              "      root._bokeh_is_loading--;\n",
              "      if (root._bokeh_is_loading === 0) {\n",
              "        console.debug(\"Bokeh: all BokehJS libraries/stylesheets loaded\");\n",
              "        run_callbacks()\n",
              "      }\n",
              "    }\n",
              "\n",
              "    function on_error(url) {\n",
              "      console.error(\"failed to load \" + url);\n",
              "    }\n",
              "\n",
              "    for (let i = 0; i < css_urls.length; i++) {\n",
              "      const url = css_urls[i];\n",
              "      const element = document.createElement(\"link\");\n",
              "      element.onload = on_load;\n",
              "      element.onerror = on_error.bind(null, url);\n",
              "      element.rel = \"stylesheet\";\n",
              "      element.type = \"text/css\";\n",
              "      element.href = url;\n",
              "      console.debug(\"Bokeh: injecting link tag for BokehJS stylesheet: \", url);\n",
              "      document.body.appendChild(element);\n",
              "    }\n",
              "\n",
              "    const hashes = {\"https://cdn.bokeh.org/bokeh/release/bokeh-2.3.3.min.js\": \"dM3QQsP+wXdHg42wTqW85BjZQdLNNIXqlPw/BgKoExPmTG7ZLML4EGqLMfqHT6ON\", \"https://cdn.bokeh.org/bokeh/release/bokeh-tables-2.3.3.min.js\": \"8x57I4YuIfu8XyZfFo0XVr2WAT8EK4rh/uDe3wF7YuW2FNUSNEpJbsPaB1nJ2fz2\", \"https://cdn.bokeh.org/bokeh/release/bokeh-widgets-2.3.3.min.js\": \"3QTqdz9LyAm2i0sG5XTePsHec3UHWwVsrOL68SYRoAXsafvfAyqtQ+h440+qIBhS\"};\n",
              "\n",
              "    for (let i = 0; i < js_urls.length; i++) {\n",
              "      const url = js_urls[i];\n",
              "      const element = document.createElement('script');\n",
              "      element.onload = on_load;\n",
              "      element.onerror = on_error.bind(null, url);\n",
              "      element.async = false;\n",
              "      element.src = url;\n",
              "      if (url in hashes) {\n",
              "        element.crossOrigin = \"anonymous\";\n",
              "        element.integrity = \"sha384-\" + hashes[url];\n",
              "      }\n",
              "      console.debug(\"Bokeh: injecting script tag for BokehJS library: \", url);\n",
              "      document.head.appendChild(element);\n",
              "    }\n",
              "  };\n",
              "\n",
              "  function inject_raw_css(css) {\n",
              "    const element = document.createElement(\"style\");\n",
              "    element.appendChild(document.createTextNode(css));\n",
              "    document.body.appendChild(element);\n",
              "  }\n",
              "\n",
              "  \n",
              "  var js_urls = [\"https://cdn.bokeh.org/bokeh/release/bokeh-2.3.3.min.js\", \"https://cdn.bokeh.org/bokeh/release/bokeh-widgets-2.3.3.min.js\", \"https://cdn.bokeh.org/bokeh/release/bokeh-tables-2.3.3.min.js\"];\n",
              "  var css_urls = [];\n",
              "  \n",
              "\n",
              "  var inline_js = [\n",
              "    function(Bokeh) {\n",
              "      Bokeh.set_log_level(\"info\");\n",
              "    },\n",
              "    function(Bokeh) {\n",
              "    \n",
              "    \n",
              "    }\n",
              "  ];\n",
              "\n",
              "  function run_inline_js() {\n",
              "    \n",
              "    if (root.Bokeh !== undefined || force === true) {\n",
              "      \n",
              "    for (var i = 0; i < inline_js.length; i++) {\n",
              "      inline_js[i].call(root, root.Bokeh);\n",
              "    }\n",
              "    } else if (Date.now() < root._bokeh_timeout) {\n",
              "      setTimeout(run_inline_js, 100);\n",
              "    } else if (!root._bokeh_failed_load) {\n",
              "      console.log(\"Bokeh: BokehJS failed to load within specified timeout.\");\n",
              "      root._bokeh_failed_load = true;\n",
              "    } else if (force !== true) {\n",
              "      var cell = $(document.getElementById(null)).parents('.cell').data().cell;\n",
              "      cell.output_area.append_execute_result(NB_LOAD_WARNING)\n",
              "    }\n",
              "\n",
              "  }\n",
              "\n",
              "  if (root._bokeh_is_loading === 0) {\n",
              "    console.debug(\"Bokeh: BokehJS loaded, going straight to plotting\");\n",
              "    run_inline_js();\n",
              "  } else {\n",
              "    load_libs(css_urls, js_urls, function() {\n",
              "      console.debug(\"Bokeh: BokehJS plotting callback run at\", now());\n",
              "      run_inline_js();\n",
              "    });\n",
              "  }\n",
              "}(window));"
            ],
            "application/vnd.bokehjs_load.v0+json": "\n(function(root) {\n  function now() {\n    return new Date();\n  }\n\n  var force = true;\n\n  if (typeof root._bokeh_onload_callbacks === \"undefined\" || force === true) {\n    root._bokeh_onload_callbacks = [];\n    root._bokeh_is_loading = undefined;\n  }\n\n  \n\n  \n  if (typeof (root._bokeh_timeout) === \"undefined\" || force === true) {\n    root._bokeh_timeout = Date.now() + 5000;\n    root._bokeh_failed_load = false;\n  }\n\n  var NB_LOAD_WARNING = {'data': {'text/html':\n     \"<div style='background-color: #fdd'>\\n\"+\n     \"<p>\\n\"+\n     \"BokehJS does not appear to have successfully loaded. If loading BokehJS from CDN, this \\n\"+\n     \"may be due to a slow or bad network connection. Possible fixes:\\n\"+\n     \"</p>\\n\"+\n     \"<ul>\\n\"+\n     \"<li>re-rerun `output_notebook()` to attempt to load from CDN again, or</li>\\n\"+\n     \"<li>use INLINE resources instead, as so:</li>\\n\"+\n     \"</ul>\\n\"+\n     \"<code>\\n\"+\n     \"from bokeh.resources import INLINE\\n\"+\n     \"output_notebook(resources=INLINE)\\n\"+\n     \"</code>\\n\"+\n     \"</div>\"}};\n\n  function display_loaded() {\n    var el = document.getElementById(null);\n    if (el != null) {\n      el.textContent = \"BokehJS is loading...\";\n    }\n    if (root.Bokeh !== undefined) {\n      if (el != null) {\n        el.textContent = \"BokehJS \" + root.Bokeh.version + \" successfully loaded.\";\n      }\n    } else if (Date.now() < root._bokeh_timeout) {\n      setTimeout(display_loaded, 100)\n    }\n  }\n\n\n  function run_callbacks() {\n    try {\n      root._bokeh_onload_callbacks.forEach(function(callback) {\n        if (callback != null)\n          callback();\n      });\n    } finally {\n      delete root._bokeh_onload_callbacks\n    }\n    console.debug(\"Bokeh: all callbacks have finished\");\n  }\n\n  function load_libs(css_urls, js_urls, callback) {\n    if (css_urls == null) css_urls = [];\n    if (js_urls == null) js_urls = [];\n\n    root._bokeh_onload_callbacks.push(callback);\n    if (root._bokeh_is_loading > 0) {\n      console.debug(\"Bokeh: BokehJS is being loaded, scheduling callback at\", now());\n      return null;\n    }\n    if (js_urls == null || js_urls.length === 0) {\n      run_callbacks();\n      return null;\n    }\n    console.debug(\"Bokeh: BokehJS not loaded, scheduling load and callback at\", now());\n    root._bokeh_is_loading = css_urls.length + js_urls.length;\n\n    function on_load() {\n      root._bokeh_is_loading--;\n      if (root._bokeh_is_loading === 0) {\n        console.debug(\"Bokeh: all BokehJS libraries/stylesheets loaded\");\n        run_callbacks()\n      }\n    }\n\n    function on_error(url) {\n      console.error(\"failed to load \" + url);\n    }\n\n    for (let i = 0; i < css_urls.length; i++) {\n      const url = css_urls[i];\n      const element = document.createElement(\"link\");\n      element.onload = on_load;\n      element.onerror = on_error.bind(null, url);\n      element.rel = \"stylesheet\";\n      element.type = \"text/css\";\n      element.href = url;\n      console.debug(\"Bokeh: injecting link tag for BokehJS stylesheet: \", url);\n      document.body.appendChild(element);\n    }\n\n    const hashes = {\"https://cdn.bokeh.org/bokeh/release/bokeh-2.3.3.min.js\": \"dM3QQsP+wXdHg42wTqW85BjZQdLNNIXqlPw/BgKoExPmTG7ZLML4EGqLMfqHT6ON\", \"https://cdn.bokeh.org/bokeh/release/bokeh-tables-2.3.3.min.js\": \"8x57I4YuIfu8XyZfFo0XVr2WAT8EK4rh/uDe3wF7YuW2FNUSNEpJbsPaB1nJ2fz2\", \"https://cdn.bokeh.org/bokeh/release/bokeh-widgets-2.3.3.min.js\": \"3QTqdz9LyAm2i0sG5XTePsHec3UHWwVsrOL68SYRoAXsafvfAyqtQ+h440+qIBhS\"};\n\n    for (let i = 0; i < js_urls.length; i++) {\n      const url = js_urls[i];\n      const element = document.createElement('script');\n      element.onload = on_load;\n      element.onerror = on_error.bind(null, url);\n      element.async = false;\n      element.src = url;\n      if (url in hashes) {\n        element.crossOrigin = \"anonymous\";\n        element.integrity = \"sha384-\" + hashes[url];\n      }\n      console.debug(\"Bokeh: injecting script tag for BokehJS library: \", url);\n      document.head.appendChild(element);\n    }\n  };\n\n  function inject_raw_css(css) {\n    const element = document.createElement(\"style\");\n    element.appendChild(document.createTextNode(css));\n    document.body.appendChild(element);\n  }\n\n  \n  var js_urls = [\"https://cdn.bokeh.org/bokeh/release/bokeh-2.3.3.min.js\", \"https://cdn.bokeh.org/bokeh/release/bokeh-widgets-2.3.3.min.js\", \"https://cdn.bokeh.org/bokeh/release/bokeh-tables-2.3.3.min.js\"];\n  var css_urls = [];\n  \n\n  var inline_js = [\n    function(Bokeh) {\n      Bokeh.set_log_level(\"info\");\n    },\n    function(Bokeh) {\n    \n    \n    }\n  ];\n\n  function run_inline_js() {\n    \n    if (root.Bokeh !== undefined || force === true) {\n      \n    for (var i = 0; i < inline_js.length; i++) {\n      inline_js[i].call(root, root.Bokeh);\n    }\n    } else if (Date.now() < root._bokeh_timeout) {\n      setTimeout(run_inline_js, 100);\n    } else if (!root._bokeh_failed_load) {\n      console.log(\"Bokeh: BokehJS failed to load within specified timeout.\");\n      root._bokeh_failed_load = true;\n    } else if (force !== true) {\n      var cell = $(document.getElementById(null)).parents('.cell').data().cell;\n      cell.output_area.append_execute_result(NB_LOAD_WARNING)\n    }\n\n  }\n\n  if (root._bokeh_is_loading === 0) {\n    console.debug(\"Bokeh: BokehJS loaded, going straight to plotting\");\n    run_inline_js();\n  } else {\n    load_libs(css_urls, js_urls, function() {\n      console.debug(\"Bokeh: BokehJS plotting callback run at\", now());\n      run_inline_js();\n    });\n  }\n}(window));"
          },
          "metadata": {}
        },
        {
          "output_type": "display_data",
          "data": {
            "text/html": [
              "\n",
              "\n",
              "\n",
              "\n",
              "\n",
              "\n",
              "  <div class=\"bk-root\" id=\"9470f828-acc1-456e-b39c-299df74bb004\" data-root-id=\"1667\"></div>\n"
            ]
          },
          "metadata": {}
        },
        {
          "output_type": "display_data",
          "data": {
            "application/javascript": [
              "(function(root) {\n",
              "  function embed_document(root) {\n",
              "    \n",
              "  var docs_json = {\"ccd07eea-ce6c-4dc4-899b-5b4b040e175c\":{\"defs\":[],\"roots\":{\"references\":[{\"attributes\":{\"below\":[{\"id\":\"1678\"}],\"center\":[{\"id\":\"1681\"},{\"id\":\"1685\"},{\"id\":\"1727\"}],\"height\":400,\"left\":[{\"id\":\"1682\"}],\"renderers\":[{\"id\":\"1703\"}],\"title\":{\"id\":\"1668\"},\"toolbar\":{\"id\":\"1693\"},\"x_range\":{\"id\":\"1670\"},\"x_scale\":{\"id\":\"1674\"},\"y_range\":{\"id\":\"1672\"},\"y_scale\":{\"id\":\"1676\"}},\"id\":\"1667\",\"subtype\":\"Figure\",\"type\":\"Plot\"},{\"attributes\":{\"mantissas\":[1,2,5],\"max_interval\":500.0,\"num_minor_ticks\":0},\"id\":\"1713\",\"type\":\"AdaptiveTicker\"},{\"attributes\":{},\"id\":\"1724\",\"type\":\"YearsTicker\"},{\"attributes\":{\"num_minor_ticks\":5,\"tickers\":[{\"id\":\"1713\"},{\"id\":\"1714\"},{\"id\":\"1715\"},{\"id\":\"1716\"},{\"id\":\"1717\"},{\"id\":\"1718\"},{\"id\":\"1719\"},{\"id\":\"1720\"},{\"id\":\"1721\"},{\"id\":\"1722\"},{\"id\":\"1723\"},{\"id\":\"1724\"}]},\"id\":\"1679\",\"type\":\"DatetimeTicker\"},{\"attributes\":{\"months\":[0,6]},\"id\":\"1723\",\"type\":\"MonthsTicker\"},{\"attributes\":{\"axis\":{\"id\":\"1678\"},\"grid_line_alpha\":0.3,\"ticker\":null},\"id\":\"1681\",\"type\":\"Grid\"},{\"attributes\":{\"months\":[0,2,4,6,8,10]},\"id\":\"1721\",\"type\":\"MonthsTicker\"},{\"attributes\":{},\"id\":\"1689\",\"type\":\"SaveTool\"},{\"attributes\":{\"base\":60,\"mantissas\":[1,2,5,10,15,20,30],\"max_interval\":1800000.0,\"min_interval\":1000.0,\"num_minor_ticks\":0},\"id\":\"1714\",\"type\":\"AdaptiveTicker\"},{\"attributes\":{\"months\":[0,4,8]},\"id\":\"1722\",\"type\":\"MonthsTicker\"},{\"attributes\":{},\"id\":\"1709\",\"type\":\"DatetimeTickFormatter\"},{\"attributes\":{\"text\":\"Litecoin (LTC) Closing Price on Bitstamp\"},\"id\":\"1668\",\"type\":\"Title\"},{\"attributes\":{\"base\":24,\"mantissas\":[1,2,4,6,8,12],\"max_interval\":43200000.0,\"min_interval\":3600000.0,\"num_minor_ticks\":0},\"id\":\"1715\",\"type\":\"AdaptiveTicker\"},{\"attributes\":{\"data\":{\"x\":{\"__ndarray__\":\"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\",\"dtype\":\"float64\",\"order\":\"little\",\"shape\":[2399]},\"y\":{\"__ndarray__\":\"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\",\"dtype\":\"float64\",\"order\":\"little\",\"shape\":[2399]}},\"selected\":{\"id\":\"1725\"},\"selection_policy\":{\"id\":\"1726\"}},\"id\":\"1700\",\"type\":\"ColumnDataSource\"},{\"attributes\":{\"active_multi\":null,\"tools\":[{\"id\":\"1686\"},{\"id\":\"1687\"},{\"id\":\"1688\"},{\"id\":\"1689\"},{\"id\":\"1690\"},{\"id\":\"1691\"}]},\"id\":\"1693\",\"type\":\"Toolbar\"},{\"attributes\":{},\"id\":\"1706\",\"type\":\"BasicTickFormatter\"},{\"attributes\":{},\"id\":\"1690\",\"type\":\"ResetTool\"},{\"attributes\":{},\"id\":\"1725\",\"type\":\"Selection\"},{\"attributes\":{\"line_color\":\"#f2a900\",\"x\":{\"field\":\"x\"},\"y\":{\"field\":\"y\"}},\"id\":\"1701\",\"type\":\"Line\"},{\"attributes\":{},\"id\":\"1670\",\"type\":\"DataRange1d\"},{\"attributes\":{},\"id\":\"1726\",\"type\":\"UnionRenderers\"},{\"attributes\":{},\"id\":\"1686\",\"type\":\"PanTool\"},{\"attributes\":{\"data_source\":{\"id\":\"1700\"},\"glyph\":{\"id\":\"1701\"},\"hover_glyph\":null,\"muted_glyph\":null,\"nonselection_glyph\":{\"id\":\"1702\"},\"view\":{\"id\":\"1704\"}},\"id\":\"1703\",\"type\":\"GlyphRenderer\"},{\"attributes\":{\"days\":[1,15]},\"id\":\"1719\",\"type\":\"DaysTicker\"},{\"attributes\":{},\"id\":\"1691\",\"type\":\"HelpTool\"},{\"attributes\":{\"bottom_units\":\"screen\",\"fill_alpha\":0.5,\"fill_color\":\"lightgrey\",\"left_units\":\"screen\",\"level\":\"overlay\",\"line_alpha\":1.0,\"line_color\":\"black\",\"line_dash\":[4,4],\"line_width\":2,\"right_units\":\"screen\",\"syncable\":false,\"top_units\":\"screen\"},\"id\":\"1692\",\"type\":\"BoxAnnotation\"},{\"attributes\":{\"line_alpha\":0.1,\"line_color\":\"#f2a900\",\"x\":{\"field\":\"x\"},\"y\":{\"field\":\"y\"}},\"id\":\"1702\",\"type\":\"Line\"},{\"attributes\":{},\"id\":\"1672\",\"type\":\"DataRange1d\"},{\"attributes\":{\"items\":[{\"id\":\"1728\"}],\"location\":\"top_left\"},\"id\":\"1727\",\"type\":\"Legend\"},{\"attributes\":{\"axis\":{\"id\":\"1682\"},\"dimension\":1,\"grid_line_alpha\":0.3,\"ticker\":null},\"id\":\"1685\",\"type\":\"Grid\"},{\"attributes\":{\"axis_label\":\"Price (USD)\",\"formatter\":{\"id\":\"1706\"},\"major_label_policy\":{\"id\":\"1708\"},\"ticker\":{\"id\":\"1683\"}},\"id\":\"1682\",\"type\":\"LinearAxis\"},{\"attributes\":{\"days\":[1,2,3,4,5,6,7,8,9,10,11,12,13,14,15,16,17,18,19,20,21,22,23,24,25,26,27,28,29,30,31]},\"id\":\"1716\",\"type\":\"DaysTicker\"},{\"attributes\":{},\"id\":\"1676\",\"type\":\"LinearScale\"},{\"attributes\":{\"months\":[0,1,2,3,4,5,6,7,8,9,10,11]},\"id\":\"1720\",\"type\":\"MonthsTicker\"},{\"attributes\":{},\"id\":\"1711\",\"type\":\"AllLabels\"},{\"attributes\":{\"source\":{\"id\":\"1700\"}},\"id\":\"1704\",\"type\":\"CDSView\"},{\"attributes\":{},\"id\":\"1683\",\"type\":\"BasicTicker\"},{\"attributes\":{\"axis_label\":\"Date\",\"formatter\":{\"id\":\"1709\"},\"major_label_policy\":{\"id\":\"1711\"},\"ticker\":{\"id\":\"1679\"}},\"id\":\"1678\",\"type\":\"DatetimeAxis\"},{\"attributes\":{},\"id\":\"1708\",\"type\":\"AllLabels\"},{\"attributes\":{\"days\":[1,4,7,10,13,16,19,22,25,28]},\"id\":\"1717\",\"type\":\"DaysTicker\"},{\"attributes\":{\"days\":[1,8,15,22]},\"id\":\"1718\",\"type\":\"DaysTicker\"},{\"attributes\":{\"overlay\":{\"id\":\"1692\"}},\"id\":\"1688\",\"type\":\"BoxZoomTool\"},{\"attributes\":{},\"id\":\"1674\",\"type\":\"LinearScale\"},{\"attributes\":{},\"id\":\"1687\",\"type\":\"WheelZoomTool\"},{\"attributes\":{\"label\":{\"value\":\"Litecoin\"},\"renderers\":[{\"id\":\"1703\"}]},\"id\":\"1728\",\"type\":\"LegendItem\"}],\"root_ids\":[\"1667\"]},\"title\":\"Bokeh Application\",\"version\":\"2.3.3\"}};\n",
              "  var render_items = [{\"docid\":\"ccd07eea-ce6c-4dc4-899b-5b4b040e175c\",\"root_ids\":[\"1667\"],\"roots\":{\"1667\":\"9470f828-acc1-456e-b39c-299df74bb004\"}}];\n",
              "  root.Bokeh.embed.embed_items_notebook(docs_json, render_items);\n",
              "\n",
              "  }\n",
              "  if (root.Bokeh !== undefined) {\n",
              "    embed_document(root);\n",
              "  } else {\n",
              "    var attempts = 0;\n",
              "    var timer = setInterval(function(root) {\n",
              "      if (root.Bokeh !== undefined) {\n",
              "        clearInterval(timer);\n",
              "        embed_document(root);\n",
              "      } else {\n",
              "        attempts++;\n",
              "        if (attempts > 100) {\n",
              "          clearInterval(timer);\n",
              "          console.log(\"Bokeh: ERROR: Unable to run BokehJS code because BokehJS library is missing\");\n",
              "        }\n",
              "      }\n",
              "    }, 10, root)\n",
              "  }\n",
              "})(window);"
            ],
            "application/vnd.bokehjs_exec.v0+json": ""
          },
          "metadata": {
            "application/vnd.bokehjs_exec.v0+json": {
              "id": "1667"
            }
          }
        }
      ]
    },
    {
      "cell_type": "markdown",
      "source": [
        "### Observation\n",
        "\n",
        "The plot displays the price fluctuations of Litecoin on the Bitstamp exchange spanning from November 17th, 2022, to February 24th, 2023, presenting a comprehensive view of its performance during this period. The line chart shows the daily closing prices of Litecoin (LTC) over a period of three months. The chart indicates that the price of LTC was relatively stable between mid-November and early December before experiencing significant fluctuations in late December and early January. The price peaked in early February before declining towards the end of the month. Traders and investors can use this plot to identify trends and patterns in the price of Litecoin on Bitstamp and make informed trading decisions based on this information."
      ],
      "metadata": {
        "id": "EGTspvA8kKe9"
      }
    },
    {
      "cell_type": "markdown",
      "metadata": {
        "id": "tp_FOFuwGJaJ"
      },
      "source": [
        "### Exporting to Excel"
      ]
    },
    {
      "cell_type": "code",
      "execution_count": null,
      "metadata": {
        "scrolled": true,
        "id": "rDqDKcsIGJaJ"
      },
      "outputs": [],
      "source": [
        "writer = pd.ExcelWriter('Litecoin_history.xlsx')\n",
        "ltc.to_excel(writer, sheet_name='Litecoin')\n",
        "writer.save()"
      ]
    },
    {
      "cell_type": "markdown",
      "metadata": {
        "id": "0VIvVu8GGJaK"
      },
      "source": [
        "# Conclusion\n",
        "\n",
        "Using the Pandas and Bokeh libraries, this assignment shows how to work with cryptocurrency price data in Python.\n",
        "\n",
        "We first used the requests library to retrieve historical price data for Litecoin (LTC) from the Cryptowatch API. We then used Pandas to convert the JSON data into a DataFrame, and plotted the closing prices of LTC over time using both Pandas and Bokeh. Finally, we wrote the LTC price data to an Excel file using Pandas.\n",
        "\n",
        "These steps illustrate how Python can be used to collect, analyze, and visualize cryptocurrency price data. The resulting plots and data can be useful for analyzing trends and identifying potential trading or investment opportunities in the cryptocurrency market.\n",
        "\n",
        "It is worth noting that the example code above uses a single cryptocurrency (Litecoin) and a single exchange (Bitstamp). However, the same techniques can be applied to other cryptocurrencies and exchanges by adjusting the API endpoints and parameters accordingly. Additionally, the code can be further extended and customized to fit specific needs or requirements.\n"
      ]
    },
    {
      "cell_type": "markdown",
      "metadata": {
        "id": "Y_B87cFXGJaK"
      },
      "source": [
        "# References\n",
        "\n",
        "- _Assignment_Week_1._ (n.d.). https://northeastern.instructure.com/courses/131480/assignments/1763695\n",
        "- TensorFlow. (2021, December 14). _Google Colab features you may have missed_ [Video]. YouTube. https://www.youtube.com/watch?v=rNgswRZ2C1Y\n",
        "- Wikimedia Foundation. (2022, December 28). Bitstamp. Wikipedia. Retrieved February 23, 2023, from https://en.wikipedia.org/wiki/Bitstamp \n",
        "- Wikimedia Foundation. (2023, February 7). Bitfinex. Wikipedia. Retrieved February 23, 2023, from https://en.wikipedia.org/wiki/Bitfinex "
      ]
    }
  ],
  "metadata": {
    "kernelspec": {
      "display_name": "Python 3 (ipykernel)",
      "language": "python",
      "name": "python3"
    },
    "language_info": {
      "codemirror_mode": {
        "name": "ipython",
        "version": 3
      },
      "file_extension": ".py",
      "mimetype": "text/x-python",
      "name": "python",
      "nbconvert_exporter": "python",
      "pygments_lexer": "ipython3",
      "version": "3.9.13"
    },
    "toc": {
      "base_numbering": 1,
      "nav_menu": {},
      "number_sections": true,
      "sideBar": true,
      "skip_h1_title": false,
      "title_cell": "Table of Contents",
      "title_sidebar": "Contents",
      "toc_cell": true,
      "toc_position": {},
      "toc_section_display": true,
      "toc_window_display": false
    },
    "colab": {
      "provenance": [],
      "include_colab_link": true
    }
  },
  "nbformat": 4,
  "nbformat_minor": 0
}